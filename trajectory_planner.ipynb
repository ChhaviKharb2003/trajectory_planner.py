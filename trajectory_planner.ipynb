{
 "cells": [
  {
   "cell_type": "code",
   "execution_count": 1,
   "id": "338d04a7-0873-4875-8719-fced73b85a7a",
   "metadata": {},
   "outputs": [
    {
     "name": "stdout",
     "output_type": "stream",
     "text": [
      "Requirement already satisfied: matplotlib in c:\\users\\chhavi\\anaconda3\\lib\\site-packages (3.9.2)\n",
      "Requirement already satisfied: numpy in c:\\users\\chhavi\\anaconda3\\lib\\site-packages (1.26.4)\n",
      "Requirement already satisfied: contourpy>=1.0.1 in c:\\users\\chhavi\\anaconda3\\lib\\site-packages (from matplotlib) (1.2.0)\n",
      "Requirement already satisfied: cycler>=0.10 in c:\\users\\chhavi\\anaconda3\\lib\\site-packages (from matplotlib) (0.11.0)\n",
      "Requirement already satisfied: fonttools>=4.22.0 in c:\\users\\chhavi\\anaconda3\\lib\\site-packages (from matplotlib) (4.51.0)\n",
      "Requirement already satisfied: kiwisolver>=1.3.1 in c:\\users\\chhavi\\anaconda3\\lib\\site-packages (from matplotlib) (1.4.4)\n",
      "Requirement already satisfied: packaging>=20.0 in c:\\users\\chhavi\\anaconda3\\lib\\site-packages (from matplotlib) (24.1)\n",
      "Requirement already satisfied: pillow>=8 in c:\\users\\chhavi\\anaconda3\\lib\\site-packages (from matplotlib) (10.4.0)\n",
      "Requirement already satisfied: pyparsing>=2.3.1 in c:\\users\\chhavi\\anaconda3\\lib\\site-packages (from matplotlib) (3.1.2)\n",
      "Requirement already satisfied: python-dateutil>=2.7 in c:\\users\\chhavi\\anaconda3\\lib\\site-packages (from matplotlib) (2.9.0.post0)\n",
      "Requirement already satisfied: six>=1.5 in c:\\users\\chhavi\\anaconda3\\lib\\site-packages (from python-dateutil>=2.7->matplotlib) (1.16.0)\n",
      "Note: you may need to restart the kernel to use updated packages.\n"
     ]
    }
   ],
   "source": [
    "pip install matplotlib numpy\n"
   ]
  },
  {
   "cell_type": "code",
   "execution_count": 4,
   "id": "0255c770-6ddf-4556-a0d1-967960f8db0b",
   "metadata": {},
   "outputs": [],
   "source": [
    "import numpy as np\n",
    "import matplotlib.pyplot as plt"
   ]
  },
  {
   "cell_type": "code",
   "execution_count": 6,
   "id": "6c618620-dd34-4332-9817-d4db5496a2e5",
   "metadata": {},
   "outputs": [],
   "source": [
    "class Partition:\n",
    "    def __init__(self, x_min, x_max, y_min, y_max, forbidden=False):\n",
    "        self.x_min = x_min\n",
    "        self.x_max = x_max\n",
    "        self.y_min = y_min\n",
    "        self.y_max = y_max\n",
    "        self.forbidden = forbidden  # Whether this partition is a restricted area\n",
    "\n",
    "    def contains(self, x, y):\n",
    "        return self.x_min <= x <= self.x_max and self.y_min <= y <= self.y_max"
   ]
  },
  {
   "cell_type": "code",
   "execution_count": 8,
   "id": "5c956577-a01a-4b8a-ab49-ca4408d639a4",
   "metadata": {},
   "outputs": [],
   "source": [
    "partitions = [\n",
    "    Partition(0, 3, 0, 3),\n",
    "    Partition(3, 6, 0, 3, forbidden=True),  # Forbidden area\n",
    "    Partition(0, 3, 3, 6),\n",
    "    Partition(3, 6, 3, 6),\n",
    "]"
   ]
  },
  {
   "cell_type": "code",
   "execution_count": 10,
   "id": "b9f0ee45-4ec3-445b-aa5b-b1ab61b3407b",
   "metadata": {},
   "outputs": [],
   "source": [
    "start = (1, 1)\n",
    "goal = (5, 5)"
   ]
  },
  {
   "cell_type": "code",
   "execution_count": 12,
   "id": "afafdf40-443d-40c1-8d20-6090df4210ef",
   "metadata": {},
   "outputs": [],
   "source": [
    "def plan_trajectory(start, goal, partitions):\n",
    "    path = [start]\n",
    "    current = start"
   ]
  },
  {
   "cell_type": "code",
   "execution_count": 18,
   "id": "4ebaabf7-5e9c-4db9-8584-0f3d03a5fffd",
   "metadata": {},
   "outputs": [
    {
     "name": "stdout",
     "output_type": "stream",
     "text": [
      "[(0.0, 0.0), (0.20408163265306123, 0.20408163265306123), (0.40816326530612246, 0.40816326530612246), (0.6122448979591837, 0.6122448979591837), (0.8163265306122449, 0.8163265306122449), (1.0204081632653061, 1.0204081632653061), (1.2244897959183674, 1.2244897959183674), (1.4285714285714286, 1.4285714285714286), (1.6326530612244898, 1.6326530612244898), (1.836734693877551, 1.836734693877551), (2.0408163265306123, 2.0408163265306123), (2.2448979591836737, 2.2448979591836737), (2.4489795918367347, 2.4489795918367347), (2.6530612244897958, 2.6530612244897958), (2.857142857142857, 2.857142857142857), (3.0612244897959187, 3.0612244897959187), (3.2653061224489797, 3.2653061224489797), (3.4693877551020407, 3.4693877551020407), (3.673469387755102, 3.673469387755102), (3.8775510204081636, 3.8775510204081636), (4.081632653061225, 4.081632653061225), (4.285714285714286, 4.285714285714286), (4.4897959183673475, 4.4897959183673475), (4.6938775510204085, 4.6938775510204085), (4.8979591836734695, 4.8979591836734695), (5.1020408163265305, 5.1020408163265305), (5.3061224489795915, 5.3061224489795915), (5.510204081632653, 5.510204081632653), (5.714285714285714, 5.714285714285714), (5.918367346938775, 5.918367346938775), (6.122448979591837, 6.122448979591837), (6.326530612244898, 6.326530612244898), (6.530612244897959, 6.530612244897959), (6.73469387755102, 6.73469387755102), (6.938775510204081, 6.938775510204081), (7.142857142857143, 7.142857142857143), (7.346938775510204, 7.346938775510204), (7.551020408163265, 7.551020408163265), (7.755102040816327, 7.755102040816327), (7.959183673469388, 7.959183673469388), (8.16326530612245, 8.16326530612245), (8.36734693877551, 8.36734693877551), (8.571428571428571, 8.571428571428571), (8.775510204081632, 8.775510204081632), (8.979591836734695, 8.979591836734695), (9.183673469387756, 9.183673469387756), (9.387755102040817, 9.387755102040817), (9.591836734693878, 9.591836734693878), (9.795918367346939, 9.795918367346939), (10.0, 10.0)]\n"
     ]
    }
   ],
   "source": [
    "import numpy as np\n",
    "current = (0, 0)   \n",
    "goal = (10, 10)   \n",
    "\n",
    "steps = 50\n",
    "x_points = np.linspace(current[0], goal[0], steps)\n",
    "y_points = np.linspace(current[1], goal[1], steps)\n",
    "\n",
    "safe_path = []\n",
    "\n",
    "for x, y in zip(x_points, y_points):\n",
    "    safe_path.append((x, y))\n",
    "\n",
    "print(safe_path)\n"
   ]
  },
  {
   "cell_type": "code",
   "execution_count": 20,
   "id": "c18609e5-9fdc-4f9b-b2ea-575eb3872797",
   "metadata": {},
   "outputs": [],
   "source": [
    "path = plan_trajectory(start, goal, partitions)"
   ]
  },
  {
   "cell_type": "code",
   "execution_count": 22,
   "id": "6cd92f33-bc5b-4ffb-8c23-bb4212ccc0f8",
   "metadata": {},
   "outputs": [],
   "source": [
    "def plot_network(partitions, path, start, goal):\n",
    "    fig, ax = plt.subplots()\n"
   ]
  },
  {
   "cell_type": "code",
   "execution_count": 30,
   "id": "359b5a62-ca73-4e1f-be8b-e3e2625c8899",
   "metadata": {},
   "outputs": [
    {
     "data": {
      "image/png": "[encoded data removed]",
      "text/plain": [
       "<Figure size 640x480 with 1 Axes>"
      ]
     },
     "metadata": {},
     "output_type": "display_data"
    }
   ],
   "source": [
    "import matplotlib.pyplot as plt\n",
    "\n",
    "class Area:\n",
    "    def __init__(self, x_min, y_min, x_max, y_max, forbidden=False):\n",
    "        self.x_min = x_min\n",
    "        self.y_min = y_min\n",
    "        self.x_max = x_max\n",
    "        self.y_max = y_max\n",
    "        self.forbidden = forbidden\n",
    "\n",
    "your_objects_list = [\n",
    "    Area(2, 3, 5, 6, forbidden=True),\n",
    "    Area(6, 7, 8, 9, forbidden=False),\n",
    "    Area(10, 10, 13, 14, forbidden=True),\n",
    "]\n",
    "\n",
    "fig, ax = plt.subplots()\n",
    "\n",
    "for p in your_objects_list:\n",
    "    color = 'red' if p.forbidden else 'lightblue'\n",
    "    rect = plt.Rectangle((p.x_min, p.y_min), p.x_max - p.x_min, p.y_max - p.y_min, color=color, alpha=0.5)\n",
    "    ax.add_patch(rect)\n",
    "\n",
    "plt.xlim(0, 15)\n",
    "plt.ylim(0, 15)\n",
    "plt.gca().set_aspect('equal')  \n",
    "plt.show()\n"
   ]
  },
  {
   "cell_type": "code",
   "execution_count": 34,
   "id": "ad1a5960-075c-42ca-916d-d1a4a8e007f2",
   "metadata": {},
   "outputs": [
    {
     "data": {
      "image/png": "[encoded data removed]",
      "text/plain": [
       "<Figure size 640x480 with 1 Axes>"
      ]
     },
     "metadata": {},
     "output_type": "display_data"
    }
   ],
   "source": [
    "plot_network(partitions, path, start, goal)"
   ]
  },
  {
   "cell_type": "code",
   "execution_count": null,
   "id": "7d17d717-1e92-4097-8658-6b89189fbcad",
   "metadata": {},
   "outputs": [],
   "source": []
  }
 ],
 "metadata": {
  "kernelspec": {
   "display_name": "Python [conda env:base] *",
   "language": "python",
   "name": "conda-base-py"
  },
  "language_info": {
   "codemirror_mode": {
    "name": "ipython",
    "version": 3
   },
   "file_extension": ".py",
   "mimetype": "text/x-python",
   "name": "python",
   "nbconvert_exporter": "python",
   "pygments_lexer": "ipython3",
   "version": "3.12.7"
  }
 },
 "nbformat": 4,
 "nbformat_minor": 5
}
